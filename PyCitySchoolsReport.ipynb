{
 "cells": [
  {
   "cell_type": "code",
   "execution_count": null,
   "metadata": {},
   "outputs": [],
   "source": []
  },
  {
   "cell_type": "markdown",
   "metadata": {},
   "source": [
    "## Trends in School Performance"
   ]
  },
  {
   "cell_type": "markdown",
   "metadata": {},
   "source": [
    "One trend I noticed was District Schools have a higher headcount than Charter schools. Even the Charter School with the most students (Wilson High School with 2,283 students) still had less students than the District School with the least amount of students (Ford High School with 2,739 students). Charter school are typically known for having fewer students overall as well as smaller class sizes."
   ]
  },
  {
   "cell_type": "markdown",
   "metadata": {},
   "source": [
    "Another trend I noticed was in the last dataframe I created (school_scores_df). Charter schools had a higher percentage rate of students passing in comparison to District school. I'm sure this is attributed to smaller class sizes. Kids have a better chance of having help with anything they're struggling with when the teacher doesn't have 30 other students to split their attention to. This trend is also reflected in the dataframes for Top Performing Schools (all Charter) and Bottom Performing Schools (all District)."
   ]
  }
 ],
 "metadata": {
  "kernelspec": {
   "display_name": "Python 3.10.4 64-bit",
   "language": "python",
   "name": "python3"
  },
  "language_info": {
   "name": "python",
   "version": "3.10.4"
  },
  "orig_nbformat": 4,
  "vscode": {
   "interpreter": {
    "hash": "82426e9ecc58341f1ef8e214ae82fe6c690940504c0647c777d68997be611dce"
   }
  }
 },
 "nbformat": 4,
 "nbformat_minor": 2
}
