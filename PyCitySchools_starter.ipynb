{
 "cells": [
  {
   "cell_type": "markdown",
   "metadata": {},
   "source": [
    "### Note\n",
    "* Instructions have been included for each segment. You do not have to follow them exactly, but they are included to help you think through the steps."
   ]
  },
  {
   "cell_type": "code",
   "execution_count": null,
   "metadata": {},
   "outputs": [],
   "source": [
    "# Dependencies and Setup\n",
    "import pandas as pd\n",
    "\n",
    "# File to Load\n",
    "school_data_to_load = \"Resources/schools_complete.csv\"\n",
    "student_data_to_load = \"Resources/students_complete.csv\"\n",
    "\n",
    "# Read School and Student Data File and store into Pandas DataFrames\n",
    "school_data = pd.read_csv(school_data_to_load)\n",
    "student_data = pd.read_csv(student_data_to_load)\n",
    "\n",
    "# Combine the data into a single dataset.  \n",
    "school_data_complete = pd.merge(student_data, school_data, how=\"left\", on=[\"school_name\", \"school_name\"])\n",
    "school_data_complete.head()"
   ]
  },
  {
   "cell_type": "markdown",
   "metadata": {},
   "source": [
    "## District Summary\n",
    "\n",
    "* Calculate the total number of schools\n",
    "\n",
    "* Calculate the total number of students\n",
    "\n",
    "* Calculate the total budget\n",
    "\n",
    "* Calculate the average math score \n",
    "\n",
    "* Calculate the average reading score\n",
    "\n",
    "* Calculate the percentage of students with a passing math score (70 or greater)\n",
    "\n",
    "* Calculate the percentage of students with a passing reading score (70 or greater)\n",
    "\n",
    "* Calculate the percentage of students who passed math **and** reading (% Overall Passing)\n",
    "\n",
    "* Create a dataframe to hold the above results\n",
    "\n",
    "* Optional: give the displayed data cleaner formatting"
   ]
  },
  {
   "cell_type": "code",
   "execution_count": null,
   "metadata": {},
   "outputs": [],
   "source": [
    "# Calculate the total number of schools\n",
    "unique_school = len(school_data_complete[\"school_name\"].unique())\n",
    "unique_school"
   ]
  },
  {
   "cell_type": "code",
   "execution_count": null,
   "metadata": {},
   "outputs": [],
   "source": [
    "# Calculate the total number of students\n",
    "unique_students = school_data_complete[\"student_name\"].count()\n",
    "unique_students"
   ]
  },
  {
   "cell_type": "code",
   "execution_count": null,
   "metadata": {},
   "outputs": [],
   "source": [
    "# Calculate the total budget\n",
    "total_budget = school_data[\"budget\"].sum()\n",
    "total_budget"
   ]
  },
  {
   "cell_type": "code",
   "execution_count": null,
   "metadata": {},
   "outputs": [],
   "source": [
    "# Calculate the average math score\n",
    "average_math_score = school_data_complete[\"math_score\"].mean()\n",
    "average_math_score"
   ]
  },
  {
   "cell_type": "code",
   "execution_count": null,
   "metadata": {},
   "outputs": [],
   "source": [
    "# Calculate the average reading score\n",
    "average_reading_score = school_data_complete[\"reading_score\"].mean()\n",
    "average_reading_score"
   ]
  },
  {
   "cell_type": "code",
   "execution_count": null,
   "metadata": {},
   "outputs": [],
   "source": [
    "# Calculate the percentage of students with a passing math score (70 or greater)\n",
    "count_passing_math = school_data_complete[school_data_complete['math_score']>=70].count()['math_score']\n",
    "percentage_passing_math = count_passing_math/school_data_complete.count()['math_score']*100\n",
    "percentage_passing_math"
   ]
  },
  {
   "cell_type": "code",
   "execution_count": null,
   "metadata": {},
   "outputs": [],
   "source": [
    "# Calculate the percentage of students with a passing reading score (70 or greater)\n",
    "count_passing_read = school_data_complete[school_data_complete['reading_score']>=70].count()['reading_score']\n",
    "percentage_passing_read = count_passing_read/school_data_complete.count()['reading_score']*100\n",
    "percentage_passing_read"
   ]
  },
  {
   "cell_type": "code",
   "execution_count": null,
   "metadata": {},
   "outputs": [],
   "source": [
    "# Calculate the percentage of students who passed math AND reading (% Overall Passing)\n",
    "overall_passing = school_data_complete.loc[(school_data_complete['math_score']>=70) & (school_data_complete['reading_score']>=70)]\n",
    "overall_passing_students = overall_passing[\"student_name\"].count()\n",
    "overall_passing_percent = overall_passing_students/unique_students*100\n",
    "overall_passing_percent"
   ]
  },
  {
   "cell_type": "code",
   "execution_count": null,
   "metadata": {},
   "outputs": [],
   "source": [
    "# Create a dataframe to hold the above results\n",
    "district_summary_df = pd.DataFrame({\"Total Schools\": [unique_school],\n",
    "                                    \"Total Students\": [unique_students],\n",
    "                                    \"Total Budget\": [total_budget],\n",
    "                                    \"Average Math Score\": [average_math_score],\n",
    "                                    \"Average Reading Score\": [average_reading_score],\n",
    "                                    \"% Passing Math\": [percentage_passing_math],\n",
    "                                    \"% Passing Reading\": [percentage_passing_read],\n",
    "                                    \"% Overall Passing\": [overall_passing_percent]})\n",
    "district_summary_df"
   ]
  },
  {
   "cell_type": "markdown",
   "metadata": {},
   "source": [
    "## School Summary"
   ]
  },
  {
   "cell_type": "markdown",
   "metadata": {},
   "source": [
    "* Create an overview table that summarizes key metrics about each school, including:\n",
    "  * School Name\n",
    "  * School Type\n",
    "  * Total Students\n",
    "  * Total School Budget\n",
    "  * Per Student Budget\n",
    "  * Average Math Score\n",
    "  * Average Reading Score\n",
    "  * % Passing Math\n",
    "  * % Passing Reading\n",
    "  * % Overall Passing (The percentage of students that passed math **and** reading.)\n",
    "  \n",
    "* Create a dataframe to hold the above results"
   ]
  },
  {
   "cell_type": "code",
   "execution_count": null,
   "metadata": {},
   "outputs": [],
   "source": [
    "# Set School as the index on schools_complete.csv\n",
    "school_index = school_data.set_index([\"school_name\"])\n",
    "school_index"
   ]
  },
  {
   "cell_type": "code",
   "execution_count": null,
   "metadata": {},
   "outputs": [],
   "source": [
    "# Variable to store school type\n",
    "school_type = school_index[\"type\"]\n",
    "school_type"
   ]
  },
  {
   "cell_type": "code",
   "execution_count": null,
   "metadata": {},
   "outputs": [],
   "source": [
    "# Variable to store school size\n",
    "school_size = school_index[\"size\"]\n",
    "school_size"
   ]
  },
  {
   "cell_type": "code",
   "execution_count": null,
   "metadata": {},
   "outputs": [],
   "source": [
    "# Variable to store school budget\n",
    "school_budget = school_index[\"budget\"]\n",
    "school_budget"
   ]
  },
  {
   "cell_type": "code",
   "execution_count": null,
   "metadata": {},
   "outputs": [],
   "source": [
    "# Variable to store budget per student, divide total school budget by number of students per school\n",
    "budget_per_student = school_budget/school_size\n",
    "budget_per_student"
   ]
  },
  {
   "cell_type": "code",
   "execution_count": null,
   "metadata": {},
   "outputs": [],
   "source": [
    "# Average math score\n",
    "avg_math = school_data_complete.groupby([\"school_name\"])[\"math_score\"].mean()\n",
    "avg_math"
   ]
  },
  {
   "cell_type": "code",
   "execution_count": null,
   "metadata": {},
   "outputs": [],
   "source": [
    "# Average reading score\n",
    "avg_read = school_data_complete.groupby([\"school_name\"])[\"reading_score\"].mean()\n",
    "avg_read"
   ]
  },
  {
   "cell_type": "code",
   "execution_count": null,
   "metadata": {},
   "outputs": [],
   "source": [
    "# % Passing Math\n",
    "passing_math = school_data_complete.loc[school_data_complete[\"math_score\"]>=70]\n",
    "percent_pass_math = passing_math.groupby([\"school_name\"]).count()[\"student_name\"]/school_size*100\n",
    "percent_pass_math"
   ]
  },
  {
   "cell_type": "code",
   "execution_count": null,
   "metadata": {},
   "outputs": [],
   "source": [
    "# % Passing Reading\n",
    "passing_read = school_data_complete.loc[school_data_complete[\"reading_score\"]>=70]\n",
    "percent_pass_read = passing_read.groupby([\"school_name\"]).count()[\"student_name\"]/school_size*100\n",
    "percent_pass_read"
   ]
  },
  {
   "cell_type": "code",
   "execution_count": null,
   "metadata": {},
   "outputs": [],
   "source": [
    "# % Overall Passing\n",
    "overall_pass_by_school = school_data_complete[(school_data_complete['math_score']>=70) & (school_data_complete['reading_score']>=70)]\n",
    "overall_pass_students = overall_pass_by_school.groupby([\"school_name\"]).count()[\"student_name\"]\n",
    "overall_pass_percent = overall_pass_students/school_data_complete[\"school_name\"].value_counts()*100\n",
    "overall_pass_percent"
   ]
  },
  {
   "cell_type": "code",
   "execution_count": null,
   "metadata": {},
   "outputs": [],
   "source": [
    "# Index School Name on Complete Data\n",
    "index_school_data = school_data_complete.set_index([\"school_name\"])\n",
    "index_school_data"
   ]
  },
  {
   "cell_type": "code",
   "execution_count": null,
   "metadata": {},
   "outputs": [],
   "source": [
    "# Create a dataframe to hold the above results\n",
    "district_summary_df = pd.DataFrame({\"School Type\": school_type,\n",
    "                                    \"Total Students\": school_size,\n",
    "                                    \"Total School Budget\": total_budget,\n",
    "                                    \"Per Student Budget\": budget_per_student,\n",
    "                                    \"Average Math Score\": avg_math,\n",
    "                                    \"Average Reading Score\": avg_read,\n",
    "                                    \"% Passing Math\": percent_pass_math,\n",
    "                                    \"% Passing Reading\": percent_pass_read,\n",
    "                                    \"% Overall Passing\": overall_pass_percent})\n",
    "district_summary_df"
   ]
  },
  {
   "cell_type": "markdown",
   "metadata": {},
   "source": [
    "## Top Performing Schools (By % Overall Passing)"
   ]
  },
  {
   "cell_type": "markdown",
   "metadata": {},
   "source": [
    "* Sort and display the top five performing schools by % overall passing."
   ]
  },
  {
   "cell_type": "code",
   "execution_count": null,
   "metadata": {
    "scrolled": true
   },
   "outputs": [],
   "source": [
    "top_perform = district_summary_df.sort_values([\"% Overall Passing\"], ascending=False)\n",
    "top_perform.head(5)"
   ]
  },
  {
   "cell_type": "markdown",
   "metadata": {},
   "source": [
    "## Bottom Performing Schools (By % Overall Passing)"
   ]
  },
  {
   "cell_type": "markdown",
   "metadata": {},
   "source": [
    "* Sort and display the five worst-performing schools by % overall passing."
   ]
  },
  {
   "cell_type": "code",
   "execution_count": null,
   "metadata": {},
   "outputs": [],
   "source": [
    "top_perform = district_summary_df.sort_values([\"% Overall Passing\"], ascending=True)\n",
    "top_perform.head(5)"
   ]
  },
  {
   "cell_type": "markdown",
   "metadata": {
    "collapsed": true
   },
   "source": [
    "## Math Scores by Grade"
   ]
  },
  {
   "cell_type": "markdown",
   "metadata": {},
   "source": [
    "* Create a table that lists the average Reading Score for students of each grade level (9th, 10th, 11th, 12th) at each school.\n",
    "\n",
    "  * Create a pandas series for each grade. Hint: use a conditional statement.\n",
    "  \n",
    "  * Group each series by school\n",
    "  \n",
    "  * Combine the series into a dataframe\n",
    "  \n",
    "  * Optional: give the displayed data cleaner formatting"
   ]
  },
  {
   "cell_type": "code",
   "execution_count": null,
   "metadata": {},
   "outputs": [],
   "source": [
    "ninth_grade = school_data_complete.loc[(school_data_complete[\"grade\"] == \"9th\")]\n",
    "ninth_math = ninth_grade.groupby([\"school_name\"]).mean()[\"math_score\"]\n",
    "ninth_math"
   ]
  },
  {
   "cell_type": "code",
   "execution_count": null,
   "metadata": {},
   "outputs": [],
   "source": [
    "tenth_grade = school_data_complete.loc[(school_data_complete[\"grade\"] == \"10th\")]\n",
    "tenth_math = tenth_grade.groupby([\"school_name\"]).mean()[\"math_score\"]\n",
    "tenth_math"
   ]
  },
  {
   "cell_type": "code",
   "execution_count": null,
   "metadata": {},
   "outputs": [],
   "source": [
    "eleventh_grade = school_data_complete.loc[(school_data_complete[\"grade\"] == \"11th\")]\n",
    "eleventh_math = eleventh_grade.groupby([\"school_name\"]).mean()[\"math_score\"]\n",
    "eleventh_math"
   ]
  },
  {
   "cell_type": "code",
   "execution_count": null,
   "metadata": {},
   "outputs": [],
   "source": [
    "twelvth_grade = school_data_complete.loc[(school_data_complete[\"grade\"] == \"12th\")]\n",
    "twelvth_math = twelvth_grade.groupby([\"school_name\"]).mean()[\"math_score\"]\n",
    "twelvth_math"
   ]
  },
  {
   "cell_type": "code",
   "execution_count": null,
   "metadata": {},
   "outputs": [],
   "source": [
    "math_score_df = pd.DataFrame({\"9th\": ninth_math,\n",
    "                            \"10th\": tenth_math,\n",
    "                            \"11th\": eleventh_math,\n",
    "                            \"12th\": twelvth_math})\n",
    "math_score_df"
   ]
  },
  {
   "cell_type": "markdown",
   "metadata": {},
   "source": [
    "## Reading Score by Grade "
   ]
  },
  {
   "cell_type": "markdown",
   "metadata": {},
   "source": [
    "* Perform the same operations as above for reading scores"
   ]
  },
  {
   "cell_type": "code",
   "execution_count": null,
   "metadata": {},
   "outputs": [],
   "source": [
    "ninth_grade = school_data_complete.loc[(school_data_complete[\"grade\"] == \"9th\")]\n",
    "ninth_read = ninth_grade.groupby([\"school_name\"]).mean()[\"reading_score\"]\n",
    "ninth_read"
   ]
  },
  {
   "cell_type": "code",
   "execution_count": null,
   "metadata": {},
   "outputs": [],
   "source": [
    "tenth_grade = school_data_complete.loc[(school_data_complete[\"grade\"] == \"10th\")]\n",
    "tenth_read = tenth_grade.groupby([\"school_name\"]).mean()[\"reading_score\"]\n",
    "tenth_read"
   ]
  },
  {
   "cell_type": "code",
   "execution_count": null,
   "metadata": {},
   "outputs": [],
   "source": [
    "eleventh_grade = school_data_complete.loc[(school_data_complete[\"grade\"] == \"11th\")]\n",
    "eleventh_read = eleventh_grade.groupby([\"school_name\"]).mean()[\"reading_score\"]\n",
    "eleventh_read"
   ]
  },
  {
   "cell_type": "code",
   "execution_count": null,
   "metadata": {},
   "outputs": [],
   "source": [
    "twelvth_grade = school_data_complete.loc[(school_data_complete[\"grade\"] == \"12th\")]\n",
    "twelvth_read = twelvth_grade.groupby([\"school_name\"]).mean()[\"reading_score\"]\n",
    "twelvth_read"
   ]
  },
  {
   "cell_type": "code",
   "execution_count": null,
   "metadata": {},
   "outputs": [],
   "source": [
    "read_score_df = pd.DataFrame({\"9th\": ninth_read,\n",
    "                            \"10th\": tenth_read,\n",
    "                            \"11th\": eleventh_read,\n",
    "                            \"12th\": twelvth_read})\n",
    "read_score_df"
   ]
  },
  {
   "cell_type": "markdown",
   "metadata": {},
   "source": [
    "## Scores by School Spending"
   ]
  },
  {
   "cell_type": "markdown",
   "metadata": {},
   "source": [
    "* Create a table that breaks down school performances based on average Spending Ranges (Per Student). Use 4 reasonable bins to group school spending. Include in the table each of the following:\n",
    "  * Average Math Score\n",
    "  * Average Reading Score\n",
    "  * % Passing Math\n",
    "  * % Passing Reading\n",
    "  * Overall Passing Rate (Average of the above two)"
   ]
  },
  {
   "cell_type": "code",
   "execution_count": null,
   "metadata": {},
   "outputs": [],
   "source": [
    "bins=[0,584,629,644,681]\n",
    "group_names=[\"<$585\",\"$585-630\",\"$630-645\",\"$645-680\"]"
   ]
  },
  {
   "cell_type": "code",
   "execution_count": null,
   "metadata": {},
   "outputs": [],
   "source": [
    "district_summary_df[\"Spending Ranges (Per Student)\"] = pd.cut(district_summary_df[\"Per Student Budget\"], bins, labels=group_names, include_lowest=True)\n",
    "district_summary_df[\"Spending Ranges (Per Student)\"]"
   ]
  },
  {
   "cell_type": "code",
   "execution_count": null,
   "metadata": {},
   "outputs": [],
   "source": [
    "school_spending_avg_math=district_summary_df.groupby([\"Spending Ranges (Per Student)\"]).mean()[\"Average Math Score\"].round(2)\n",
    "school_spending_avg_math"
   ]
  },
  {
   "cell_type": "code",
   "execution_count": null,
   "metadata": {},
   "outputs": [],
   "source": [
    "school_spending_avg_read=district_summary_df.groupby([\"Spending Ranges (Per Student)\"]).mean()[\"Average Reading Score\"].round(2)\n",
    "school_spending_avg_read"
   ]
  },
  {
   "cell_type": "code",
   "execution_count": null,
   "metadata": {},
   "outputs": [],
   "source": [
    "school_spending_per_math=district_summary_df.groupby([\"Spending Ranges (Per Student)\"]).mean()[\"% Passing Math\"].round(2)\n",
    "school_spending_per_math"
   ]
  },
  {
   "cell_type": "code",
   "execution_count": null,
   "metadata": {},
   "outputs": [],
   "source": [
    "school_spending_per_read=district_summary_df.groupby([\"Spending Ranges (Per Student)\"]).mean()[\"% Passing Reading\"].round(2)\n",
    "school_spending_per_read"
   ]
  },
  {
   "cell_type": "code",
   "execution_count": null,
   "metadata": {},
   "outputs": [],
   "source": [
    "school_spending_overall=district_summary_df.groupby([\"Spending Ranges (Per Student)\"]).mean()[\"% Overall Passing\"].round(2)\n",
    "school_spending_overall"
   ]
  },
  {
   "cell_type": "code",
   "execution_count": null,
   "metadata": {},
   "outputs": [],
   "source": [
    "# Create a dataframe to hold the above results\n",
    "school_spending_df = pd.DataFrame({\"Average Math Score\": school_spending_avg_math,\n",
    "                                    \"Average Reading Score\": school_spending_avg_read,\n",
    "                                    \"% Passing Math\": school_spending_per_math,\n",
    "                                    \"% Passing Reading\": school_spending_per_read,\n",
    "                                    \"% Overall Passing\": school_spending_overall})\n",
    "school_spending_df                      "
   ]
  },
  {
   "cell_type": "markdown",
   "metadata": {},
   "source": [
    "## Scores by School Size"
   ]
  },
  {
   "cell_type": "markdown",
   "metadata": {},
   "source": [
    "* Perform the same operations as above, based on school size."
   ]
  },
  {
   "cell_type": "code",
   "execution_count": null,
   "metadata": {
    "scrolled": true
   },
   "outputs": [],
   "source": [
    "bins=[0,999,1999,5001]\n",
    "group_names=[\"Small (<1000)\",\"Medium (1000-2000)\",\"Large (2000-5000)\"]"
   ]
  },
  {
   "cell_type": "code",
   "execution_count": null,
   "metadata": {},
   "outputs": [],
   "source": [
    "district_summary_df[\"School Size\"] = pd.cut(district_summary_df[\"Total Students\"], bins, labels=group_names, include_lowest=True)\n",
    "district_summary_df[\"School Size\"]"
   ]
  },
  {
   "cell_type": "code",
   "execution_count": null,
   "metadata": {},
   "outputs": [],
   "source": [
    "school_size_avg_math=district_summary_df.groupby([\"School Size\"]).mean()[\"Average Math Score\"].round(2)\n",
    "school_size_avg_math"
   ]
  },
  {
   "cell_type": "code",
   "execution_count": null,
   "metadata": {},
   "outputs": [],
   "source": [
    "school_size_avg_read=district_summary_df.groupby([\"School Size\"]).mean()[\"Average Reading Score\"].round(2)\n",
    "school_size_avg_read"
   ]
  },
  {
   "cell_type": "code",
   "execution_count": null,
   "metadata": {},
   "outputs": [],
   "source": [
    "school_size_per_math=district_summary_df.groupby([\"School Size\"]).mean()[\"% Passing Math\"].round(2)\n",
    "school_size_per_math"
   ]
  },
  {
   "cell_type": "code",
   "execution_count": null,
   "metadata": {},
   "outputs": [],
   "source": [
    "school_size_per_read=district_summary_df.groupby([\"School Size\"]).mean()[\"% Passing Reading\"].round(2)\n",
    "school_size_per_read"
   ]
  },
  {
   "cell_type": "code",
   "execution_count": null,
   "metadata": {},
   "outputs": [],
   "source": [
    "school_size_overall=district_summary_df.groupby([\"School Size\"]).mean()[\"% Overall Passing\"].round(2)\n",
    "school_size_overall"
   ]
  },
  {
   "cell_type": "code",
   "execution_count": null,
   "metadata": {},
   "outputs": [],
   "source": [
    "# Create a dataframe to hold the above results\n",
    "school_size_df = pd.DataFrame({\"Average Math Score\": school_size_avg_math,\n",
    "                                    \"Average Reading Score\": school_size_avg_read,\n",
    "                                    \"% Passing Math\": school_size_per_math,\n",
    "                                    \"% Passing Reading\": school_size_per_read,\n",
    "                                    \"% Overall Passing\": school_size_overall})\n",
    "school_size_df"
   ]
  },
  {
   "cell_type": "markdown",
   "metadata": {},
   "source": [
    "## Scores by School Type"
   ]
  },
  {
   "cell_type": "markdown",
   "metadata": {},
   "source": [
    "* Perform the same operations as above, based on school type"
   ]
  },
  {
   "cell_type": "code",
   "execution_count": null,
   "metadata": {},
   "outputs": [],
   "source": [
    "scores_by_avg_math = district_summary_df.groupby(\"School Type\").mean()[\"Average Math Score\"].round(2)\n",
    "scores_by_avg_math"
   ]
  },
  {
   "cell_type": "code",
   "execution_count": null,
   "metadata": {},
   "outputs": [],
   "source": [
    "scores_by_avg_read = district_summary_df.groupby(\"School Type\").mean()[\"Average Reading Score\"].round(2)\n",
    "scores_by_avg_read"
   ]
  },
  {
   "cell_type": "code",
   "execution_count": null,
   "metadata": {},
   "outputs": [],
   "source": [
    "scores_by_per_math=district_summary_df.groupby([\"School Type\"]).mean()[\"% Passing Math\"].round(2)\n",
    "scores_by_per_math"
   ]
  },
  {
   "cell_type": "code",
   "execution_count": null,
   "metadata": {},
   "outputs": [],
   "source": [
    "scores_by_per_read=district_summary_df.groupby([\"School Type\"]).mean()[\"% Passing Reading\"].round(2)\n",
    "scores_by_per_read"
   ]
  },
  {
   "cell_type": "code",
   "execution_count": null,
   "metadata": {},
   "outputs": [],
   "source": [
    "scores_by_per_over=district_summary_df.groupby([\"School Type\"]).mean()[\"% Overall Passing\"].round(2)\n",
    "scores_by_per_over"
   ]
  },
  {
   "cell_type": "code",
   "execution_count": null,
   "metadata": {},
   "outputs": [],
   "source": [
    "# Create a dataframe to hold the above results\n",
    "school_scores_df = pd.DataFrame({\"Average Math Score\": scores_by_avg_math,\n",
    "                                    \"Average Reading Score\": scores_by_avg_read,\n",
    "                                    \"% Passing Math\": scores_by_per_math,\n",
    "                                    \"% Passing Reading\": scores_by_per_read,\n",
    "                                    \"% Overall Passing\": scores_by_per_over})\n",
    "school_scores_df"
   ]
  }
 ],
 "metadata": {
  "anaconda-cloud": {},
  "kernel_info": {
   "name": "python3"
  },
  "kernelspec": {
   "display_name": "Python 3.9.12 ('base')",
   "language": "python",
   "name": "python3"
  },
  "language_info": {
   "codemirror_mode": {
    "name": "ipython",
    "version": 3
   },
   "file_extension": ".py",
   "mimetype": "text/x-python",
   "name": "python",
   "nbconvert_exporter": "python",
   "pygments_lexer": "ipython3",
   "version": "3.9.12"
  },
  "latex_envs": {
   "LaTeX_envs_menu_present": true,
   "autoclose": false,
   "autocomplete": true,
   "bibliofile": "biblio.bib",
   "cite_by": "apalike",
   "current_citInitial": 1,
   "eqLabelWithNumbers": true,
   "eqNumInitial": 1,
   "hotkeys": {
    "equation": "Ctrl-E",
    "itemize": "Ctrl-I"
   },
   "labels_anchors": false,
   "latex_user_defs": false,
   "report_style_numbering": false,
   "user_envs_cfg": false
  },
  "nteract": {
   "version": "0.8.4"
  },
  "vscode": {
   "interpreter": {
    "hash": "ca02d05c83cb06a4d3d1bb3c2ad95bd9ee4b26f688526444572dc942a69d580d"
   }
  }
 },
 "nbformat": 4,
 "nbformat_minor": 1
}
